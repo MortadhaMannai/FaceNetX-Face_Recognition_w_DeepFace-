{
 "cells": [
  {
   "cell_type": "code",
   "execution_count": 2,
   "metadata": {},
   "outputs": [],
   "source": [
    "from deepface import DeepFace\n",
    "import cv2\n",
    "import matplotlib.pyplot as plt \n",
    "import numpy as np"
   ]
  },
  {
   "cell_type": "code",
   "execution_count": 3,
   "metadata": {},
   "outputs": [],
   "source": [
    "# List of available backends, models, and distance metrics\n",
    "backends = [\"opencv\", \"ssd\", \"dlib\", \"mtcnn\", \"retinaface\"]\n",
    "models = [\"VGG-Face\", \"Facenet\", \"Facenet512\", \"OpenFace\", \"DeepFace\", \"DeepID\", \"ArcFace\", \"Dlib\", \"SFace\"]\n",
    "metrics = [\"cosine\", \"euclidean\", \"euclidean_l2\"]"
   ]
  },
  {
   "cell_type": "code",
   "execution_count": null,
   "metadata": {
    "scrolled": true
   },
   "outputs": [],
   "source": [
    "# Path to the image for face recognition\n",
    "img = \"Data/elcan.jpg\"\n",
    "\n",
    "def face_recognition(img):\n",
    "    # Perform face recognition on the provided image\n",
    "    # Find faces and identify people using a specific model and distance metric\n",
    "    people = DeepFace.find(img_path=img, db_path=\"Data/\", model_name=models[2], distance_metric=metrics[1])\n",
    "\n",
    "    # Display the original image\n",
    "    plt.imshow(cv2.imread(img))\n",
    "\n",
    "    # Print the identities of the recognized people\n",
    "    for person in people:\n",
    "        print(person['identity'][0].split('/')[1])\n",
    "\n",
    "# Perform face recognition on a single image\n",
    "# face_recognition(img)"
   ]
  },
  {
   "cell_type": "code",
   "execution_count": null,
   "metadata": {},
   "outputs": [],
   "source": [
    "def realtime_face_recognition():\n",
    "    # Define a video capture object\n",
    "    vid = cv2.VideoCapture(0)\n",
    "\n",
    "    while True:\n",
    "        # Capture the video frame by frame\n",
    "        ret, frame = vid.read()\n",
    "\n",
    "        # Perform face recognition on the captured frame\n",
    "        # Find faces and identify people using a specific model and distance metric\n",
    "        people = DeepFace.find(img_path=frame, db_path=\"Data/\", model_name=models[2], distance_metric=metrics[2], enforce_detection=False)\n",
    "\n",
    "        for person in people:\n",
    "            # Retrieve the coordinates of the face bounding box\n",
    "            x = person['source_x'][0]\n",
    "            y = person['source_y'][0]\n",
    "            w = person['source_w'][0]\n",
    "            h = person['source_h'][0]\n",
    "\n",
    "            # Draw a rectangle around the face\n",
    "            cv2.rectangle(frame, (x, y), (x+w, y+h), (0, 255, 0), 2)\n",
    "\n",
    "            # Get the person's name and display it on the image\n",
    "            name = person['identity'][0].split('/')[1]\n",
    "            cv2.putText(frame, name, (x, y), cv2.FONT_ITALIC, 1, (0, 0, 255), 2)\n",
    "\n",
    "        # Display the resulting frame\n",
    "        cv2.namedWindow('frame', cv2.WINDOW_NORMAL)\n",
    "        cv2.resizeWindow('frame', 960, 720)\n",
    "        cv2.imshow('frame', frame)\n",
    "\n",
    "        # Check if the 'q' button is pressed to quit the program\n",
    "        if cv2.waitKey(1) & 0xFF == ord('q'):\n",
    "            break\n",
    "\n",
    "    # Release the video capture object and close all windows\n",
    "    vid.release()\n",
    "    cv2.destroyAllWindows()\n",
    "\n",
    "# Perform real-time face recognition using the webcam\n",
    "# realtime_face_recognition()"
   ]
  }
 ],
 "metadata": {
  "kernelspec": {
   "display_name": "Python 3 (ipykernel)",
   "language": "python",
   "name": "python3"
  },
  "language_info": {
   "codemirror_mode": {
    "name": "ipython",
    "version": 3
   },
   "file_extension": ".py",
   "mimetype": "text/x-python",
   "name": "python",
   "nbconvert_exporter": "python",
   "pygments_lexer": "ipython3",
   "version": "3.10.6"
  }
 },
 "nbformat": 4,
 "nbformat_minor": 2
}
